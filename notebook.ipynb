import tensorflow as tf
from tensorflow.keras.datasets import mnist
from tensorflow.keras.models import Sequential
from tensorflow.keras.layers import Dense, Flatten
import matplotlib.pyplot as plt

#Charger les données
(x_train, y_train), (x_test, y_test) = mnist.load_data()

# Normaliser les données(les pixels) (mettre entre 0 et 1)
x_train, x_test = x_train / 255.0, x_test / 255.0

#Construire le modèle
model = Sequential([
    Flatten(input_shape=(28, 28)),
    Dense(128, activation='relu'),
    Dense(10, activation='softmax')
])

#Compiler le modèle
model.compile(optimizer='adam',
              loss='sparse_categorical_crossentropy',
              metrics=['accuracy'])

#Entraîner le modèle
model.fit(x_train, y_train, epochs=5, validation_split=0.1)

#Évaluer le modèle
test_loss, test_acc = model.evaluate(x_test, y_test)
print("Précision sur les données de test :", test_acc)

#Sauvegarder le modèle
model.save("model_mnist.keras")


%%writefile app.py
import streamlit as st
from streamlit_drawable_canvas import st_canvas
import tensorflow as tf
import numpy as np
import cv2

#Chargement du modele et  Titre de l’application
new_model = tf.keras.models.load_model("model_mnist.keras")
st.title("MNIST Handwritten Digit Recognizer")

#Interface de dessin
canvas_result = st_canvas(
    fill_color="white",
    stroke_width=15,
    stroke_color="black",
    background_color="white",
    height=280,
    width=280,
    drawing_mode="freedraw",
    key="canvas"
)

#Traitement de l'image et prédiction
if canvas_result.image_data is not None:
    img = canvas_result.image_data
    img = cv2.cvtColor(img.astype('uint8'), cv2.COLOR_RGBA2GRAY)
    img = cv2.resize(img, (28, 28))
    img = 255 - img
    img = img / 255.0
    img = img.reshape(1, 28, 28)

    prediction = new_model.predict(img)
    st.write("### Predicted digit:", np.argmax(prediction))

#lancer ton application Streamlit et de la rendre accessible via un lien public
#obtenir authotoken et le poser
!ngrok config add-authtoken 
from pyngrok import ngrok
import time

# Kill previous tunnels if any
ngrok.kill()

# Start the Streamlit app in background (replace 'app.py' with your actual file name)
!streamlit run app.py &> /dev/null &

# Wait a bit for Streamlit to launch
time.sleep(5)

# Create the public tunnel
public_url = ngrok.connect("http://localhost:8501")
print("🌐 Your app is live at:", public_url)
